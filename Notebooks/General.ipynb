{
 "cells": [
  {
   "cell_type": "markdown",
   "metadata": {},
   "source": [
    "# Raw Codes"
   ]
  },
  {
   "cell_type": "code",
   "execution_count": 1,
   "metadata": {},
   "outputs": [],
   "source": [
    "import requests"
   ]
  },
  {
   "cell_type": "code",
   "execution_count": 2,
   "metadata": {},
   "outputs": [],
   "source": [
    "session = requests.session()"
   ]
  },
  {
   "cell_type": "code",
   "execution_count": 3,
   "metadata": {},
   "outputs": [
    {
     "data": {
      "text/plain": [
       "<requests.sessions.Session at 0x19b0e231b88>"
      ]
     },
     "execution_count": 3,
     "metadata": {},
     "output_type": "execute_result"
    }
   ],
   "source": [
    "session"
   ]
  },
  {
   "cell_type": "code",
   "execution_count": 4,
   "metadata": {},
   "outputs": [],
   "source": [
    "head = {\n",
    "    \"user-agent\": \"Mozilla/5.0 (Windows NT 10.0; Win64; x64) AppleWebKit/537.36 (KHTML, like Gecko) Chrome/87.0.4280.88 Safari/537.36\"\n",
    "}"
   ]
  },
  {
   "cell_type": "code",
   "execution_count": 7,
   "metadata": {},
   "outputs": [],
   "source": [
    "search_url = 'https://www.nseindia.com/api/search/autocomplete?q={}'"
   ]
  },
  {
   "cell_type": "code",
   "execution_count": 6,
   "metadata": {},
   "outputs": [],
   "source": [
    "get_details = 'https://www.nseindia.com/api/quote-equity?symbol={}'"
   ]
  },
  {
   "cell_type": "code",
   "execution_count": 8,
   "metadata": {},
   "outputs": [],
   "source": [
    "website_url = 'https://www.nseindia.com/'"
   ]
  },
  {
   "cell_type": "code",
   "execution_count": 9,
   "metadata": {},
   "outputs": [
    {
     "data": {
      "text/plain": [
       "<Response [200]>"
      ]
     },
     "execution_count": 9,
     "metadata": {},
     "output_type": "execute_result"
    }
   ],
   "source": [
    "session.get(website_url, headers = head)"
   ]
  },
  {
   "cell_type": "code",
   "execution_count": 10,
   "metadata": {},
   "outputs": [],
   "source": [
    "company_name = \"tata motors\""
   ]
  },
  {
   "cell_type": "code",
   "execution_count": 13,
   "metadata": {},
   "outputs": [],
   "source": [
    "search_results = session.get(url=search_url.format(company_name), headers=head)"
   ]
  },
  {
   "cell_type": "code",
   "execution_count": 14,
   "metadata": {},
   "outputs": [
    {
     "data": {
      "text/plain": [
       "<Response [200]>"
      ]
     },
     "execution_count": 14,
     "metadata": {},
     "output_type": "execute_result"
    }
   ],
   "source": [
    "search_results"
   ]
  },
  {
   "cell_type": "code",
   "execution_count": 15,
   "metadata": {
    "collapsed": true
   },
   "outputs": [
    {
     "data": {
      "text/plain": [
       "{'symbols': [{'symbol': 'TATAMOTORS',\n",
       "   'symbol_info': 'Tata Motors Limited',\n",
       "   'symbol_suggest': [{'input': 'TATAMOTORS', 'weight': 16},\n",
       "    {'input': 'Tata', 'weight': 8},\n",
       "    {'input': 'Motors', 'weight': 8},\n",
       "    {'input': 'Limited', 'weight': 8}],\n",
       "   'result_type': 'symbol',\n",
       "   'result_sub_type': 'equity',\n",
       "   'activeSeries': ['EQ'],\n",
       "   'url': '/get-quotes/equity?symbol=TATAMOTORS'},\n",
       "  {'symbol': 'TATAMTRDVR',\n",
       "   'symbol_info': 'Tata Motors Limited',\n",
       "   'symbol_suggest': [{'input': 'TATAMTRDVR', 'weight': 10},\n",
       "    {'input': 'Tata', 'weight': 5},\n",
       "    {'input': 'Motors', 'weight': 5},\n",
       "    {'input': 'Limited', 'weight': 5}],\n",
       "   'result_type': 'symbol',\n",
       "   'result_sub_type': 'equity',\n",
       "   'activeSeries': ['EQ'],\n",
       "   'url': '/get-quotes/equity?symbol=TATAMTRDVR'},\n",
       "  {'symbol': 'TATACHEM',\n",
       "   'symbol_info': 'Tata Chemicals Limited',\n",
       "   'symbol_suggest': [{'input': 'TATACHEM', 'weight': 14},\n",
       "    {'input': 'Tata', 'weight': 7},\n",
       "    {'input': 'Chemicals', 'weight': 7},\n",
       "    {'input': 'Limited', 'weight': 7}],\n",
       "   'result_type': 'symbol',\n",
       "   'result_sub_type': 'equity',\n",
       "   'activeSeries': ['EQ'],\n",
       "   'url': '/get-quotes/equity?symbol=TATACHEM'},\n",
       "  {'symbol': 'TATACAPHSG',\n",
       "   'symbol_info': 'Tata Capital Housing Finance Limited',\n",
       "   'symbol_suggest': [{'input': 'TATACAPHSG', 'weight': 10},\n",
       "    {'input': 'Tata', 'weight': 5},\n",
       "    {'input': 'Capital', 'weight': 5},\n",
       "    {'input': 'Housing', 'weight': 5},\n",
       "    {'input': 'Finance', 'weight': 5},\n",
       "    {'input': 'Limited', 'weight': 5}],\n",
       "   'result_type': 'symbol',\n",
       "   'result_sub_type': 'bonds',\n",
       "   'activeSeries': [],\n",
       "   'url': '/get-quotes/bonds?symbol=TATACAPHSG'},\n",
       "  {'symbol': 'TATACONSUM',\n",
       "   'symbol_info': 'TATA CONSUMER PRODUCTS LIMITED',\n",
       "   'symbol_suggest': [{'input': 'TATACONSUM', 'weight': 16},\n",
       "    {'input': 'TATA', 'weight': 8},\n",
       "    {'input': 'CONSUMER', 'weight': 8},\n",
       "    {'input': 'PRODUCTS', 'weight': 8},\n",
       "    {'input': 'LIMITED', 'weight': 8}],\n",
       "   'result_type': 'symbol',\n",
       "   'result_sub_type': 'equity',\n",
       "   'activeSeries': ['EQ'],\n",
       "   'url': '/get-quotes/equity?symbol=TATACONSUM'},\n",
       "  {'symbol': 'TATASTLPP',\n",
       "   'symbol_info': 'Tata Steel Limited',\n",
       "   'symbol_suggest': [{'input': 'TATASTLPP', 'weight': 10},\n",
       "    {'input': 'Tata', 'weight': 5},\n",
       "    {'input': 'Steel', 'weight': 5},\n",
       "    {'input': 'Limited', 'weight': 5}],\n",
       "   'result_type': 'symbol',\n",
       "   'result_sub_type': 'equity',\n",
       "   'activeSeries': [],\n",
       "   'url': '/get-quotes/equity?symbol=TATASTLPP'},\n",
       "  {'symbol': 'HINDMOTORS',\n",
       "   'symbol_info': 'Hindustan Motors Limited',\n",
       "   'symbol_suggest': [{'input': 'HINDMOTORS', 'weight': 10},\n",
       "    {'input': 'Hindustan', 'weight': 5},\n",
       "    {'input': 'Motors', 'weight': 5},\n",
       "    {'input': 'Limited', 'weight': 5}],\n",
       "   'result_type': 'symbol',\n",
       "   'result_sub_type': 'equity',\n",
       "   'activeSeries': ['BE'],\n",
       "   'url': '/get-quotes/equity?symbol=HINDMOTORS'},\n",
       "  {'symbol': 'TATACAP',\n",
       "   'symbol_info': 'Tata Capital Limited',\n",
       "   'symbol_suggest': [{'input': 'TATACAP', 'weight': 10},\n",
       "    {'input': 'Tata', 'weight': 5},\n",
       "    {'input': 'Capital', 'weight': 5},\n",
       "    {'input': 'Limited', 'weight': 5}],\n",
       "   'result_type': 'symbol',\n",
       "   'result_sub_type': 'equity',\n",
       "   'activeSeries': [],\n",
       "   'url': '/get-quotes/equity?symbol=TATACAP'},\n",
       "  {'symbol': 'TATASTLBSL',\n",
       "   'symbol_info': 'Tata Steel Bsl Limited',\n",
       "   'symbol_suggest': [{'input': 'TATASTLBSL', 'weight': 10},\n",
       "    {'input': 'Tata', 'weight': 5},\n",
       "    {'input': 'Steel', 'weight': 5},\n",
       "    {'input': 'Bsl', 'weight': 5},\n",
       "    {'input': 'Limited', 'weight': 5}],\n",
       "   'result_type': 'symbol',\n",
       "   'result_sub_type': 'equity',\n",
       "   'activeSeries': [],\n",
       "   'url': '/get-quotes/equity?symbol=TATASTLBSL'}],\n",
       " 'mfsymbols': [{'symbol': 'TATAMFCORE',\n",
       "   'symbol_info': 'Tata Mutual Fund - Core Sector Units',\n",
       "   'symbol_suggest': [{'input': 'TATAMFCORE', 'weight': 3},\n",
       "    {'input': 'Tata', 'weight': 3},\n",
       "    {'input': 'Mutual', 'weight': 3},\n",
       "    {'input': 'Fund', 'weight': 3},\n",
       "    {'input': '-', 'weight': 3},\n",
       "    {'input': 'Core', 'weight': 3},\n",
       "    {'input': 'Sector', 'weight': 3},\n",
       "    {'input': 'Units', 'weight': 3}],\n",
       "   'result_type': 'symbol',\n",
       "   'result_sub_type': 'Mutual Funds',\n",
       "   'url': '/companies-listing/corporate-filings-actions?tabIndex=mf&symbol=TATAMFCORE'}],\n",
       " 'search_content': [{'title': 'Most Active Securities - Monthly and Yearly',\n",
       "   'content': 'CONSULTANCY SERVICES <b>LTD1641001.826852236.0914TATA</b> <b>MOTORS</b> LIMITED155704\\n<b>1.73219470.2015TATA</b> STEEL LIMITED1383221.54303700.2716BHARTI AIRTEL LIMITED1307511.452405362.1417ZEE ENTERTAINMENT ENT\\nLTD1210761.35119050.1118KOTAK MAHINDRA BANK LTD1107551.232478652.2019L',\n",
       "   'url': '/historical-reports/most-active-securities/monthly-yearly',\n",
       "   'result_type': 'content',\n",
       "   'result_sub_type': 'content'},\n",
       "  {'title': 'List of Underlyings and Information',\n",
       "   'content': \"REDDY'S LABORATORIES\\nLIMITEDDRREDDY61EICHER <b>MOTORS</b> LIMITEDEICHERMOT62ESCORTS KUBOTA LIMITEDESCORTS63EXIDE INDUSTRIES LIMITEDEXIDEIND64\\nFIRSTSOURCE SOLUTIONS LIMITEDFSL65GAIL (INDIA) LIMITEDGAIL66GLENMARK PHARMACEUTICALS LIMITEDGLENMARK67GMR INFRASTRUCTURE\",\n",
       "   'url': '/products-services/equity-derivatives-list-underlyings-information',\n",
       "   'result_type': 'content',\n",
       "   'result_sub_type': 'content'},\n",
       "  {'title': 'Press Releases - Archives',\n",
       "   'content': '<b>Tata</b> <b>Motors</b> Ltd.\\n * The Exchange has successfully completed its 1563rd Normal Settlement\\n\\nMay 17, 2006\\n * Press reports regarding M/s. Geometric Software Solutions Ltd.\\n * Press reports regarding M/s. <b>Tata</b> <b>Motors</b> Ltd.\\n * Press reports regarding M/s.',\n",
       "   'url': '/resources/exchange-communication-press-releases-archives',\n",
       "   'result_type': 'content',\n",
       "   'result_sub_type': 'content'},\n",
       "  {'title': 'Corporate Communications',\n",
       "   'content': 'Of the 50 stocks in the Nifty, 13 companies – HDFC Bank, RIL, HDFC, ITC, HUL, L&T, SBI, <b>Tata</b> <b>Motors,</b> Dr Reddy’s Labs,\\n<b>Tata</b> Steel, Grasim, Hero, and Hindalco – have been a part of the index’s journey since inception.',\n",
       "   'url': '/nifty50-turns-25',\n",
       "   'result_type': 'content',\n",
       "   'result_sub_type': 'content'},\n",
       "  {'title': 'Media Coverage - Archives',\n",
       "   'content': \"stock market debutFinancial Express17-Sep-2017\\nNSE Investor Fair' promotes Investment cultureDainik Bhaskar30-Aug-2017Attractive returns drive FIIs, hedge funds to\\ninvest in SME companiesHindu Business Line29-Aug-2017Nifty back to 50-stock index, as <b>Tata</b>\",\n",
       "   'url': '/resources/exchange-communication-media-center-archives',\n",
       "   'result_type': 'content',\n",
       "   'result_sub_type': 'content'},\n",
       "  {'title': 'Arbitration Panel',\n",
       "   'content': '<b>Tata</b> <b>Motors,</b> Emcure Ltd., Mercedes Benz Pvt. Ltd., Currently\\nPractising Cost Accountant26MR MADAN GODSEPUNELLB, CSPractising Company Secretary29MR HEMANT PARDIKARPUNEM.Sc.',\n",
       "   'url': '/invest/arbitration-panel',\n",
       "   'result_type': 'content',\n",
       "   'result_sub_type': 'content'},\n",
       "  {'title': 'Offer for Sale (OFS) - Related Circulars',\n",
       "   'content': 'No.DateSettlement Calendar for Offer for\\nSale of shares by Igarashi <b>Motors</b> India Limited (pdf) NSE ClearingNSE/CMPT/32790July 11, 2016Proposed Offer for Sale by\\nIgarashi <b>Motors</b> India Limited (zip)CM TradeNSE/CMTR/32787July 11, 2016Review of Offer for',\n",
       "   'url': '/products-services/offer-for-sale-circulars',\n",
       "   'result_type': 'content',\n",
       "   'result_sub_type': 'content'},\n",
       "  {'title': 'FAQs on Offer for Sale',\n",
       "   'content': 'No.DateSettlement Calendar for Offer for Sale of shares by Igarashi <b>Motors</b> India\\nLimited (pdf)NSE ClearingNSE/CMPT/32790July 11, 2016Proposed Offer for Sale by Igarashi <b>Motors</b> India Limited (zip)CM\\nTradeNSE/CMTR/32787July 11, 2016Review of Offer for Sale',\n",
       "   'url': '/products-services/offer-for-sale-faqs',\n",
       "   'result_type': 'content',\n",
       "   'result_sub_type': 'content'},\n",
       "  {'title': 'NSE Academy launches Industry Honour Certification courses for BCom students in partnership with TCS',\n",
       "   'content': 'TCS iON is a digital learning platform of <b>Tata</b> Consultancy Services which aims to increase the efficiency of the\\nrecruitment process and upskilling of various organisations.',\n",
       "   'url': '/nse-academy-launches-industry-honour-certification-courses-for-bcom-students-in-partnership-with-tcs-ion',\n",
       "   'result_type': 'content',\n",
       "   'result_sub_type': 'content'},\n",
       "  {'title': 'Listing Ceremony of Sona BLW Precision Forgings Limited',\n",
       "   'content': 'The company is primarily engaged in designing, manufacturing, and supplying high-quality mission-critical\\nautomotive components such as differential assemblies, gears, conventional and micro-hybrid starter <b>motors,</b> etc.',\n",
       "   'url': '/event-details-listing-ceremony-sona-blw-precision-forgings-limited',\n",
       "   'result_type': 'content',\n",
       "   'result_sub_type': 'content'}],\n",
       " 'sitemap': []}"
      ]
     },
     "execution_count": 15,
     "metadata": {},
     "output_type": "execute_result"
    }
   ],
   "source": [
    "search_results.json()"
   ]
  },
  {
   "cell_type": "code",
   "execution_count": 16,
   "metadata": {},
   "outputs": [
    {
     "data": {
      "text/plain": [
       "{'symbol': 'TATAMOTORS',\n",
       " 'symbol_info': 'Tata Motors Limited',\n",
       " 'symbol_suggest': [{'input': 'TATAMOTORS', 'weight': 16},\n",
       "  {'input': 'Tata', 'weight': 8},\n",
       "  {'input': 'Motors', 'weight': 8},\n",
       "  {'input': 'Limited', 'weight': 8}],\n",
       " 'result_type': 'symbol',\n",
       " 'result_sub_type': 'equity',\n",
       " 'activeSeries': ['EQ'],\n",
       " 'url': '/get-quotes/equity?symbol=TATAMOTORS'}"
      ]
     },
     "execution_count": 16,
     "metadata": {},
     "output_type": "execute_result"
    }
   ],
   "source": [
    "search_results.json()[\"symbols\"][0]"
   ]
  },
  {
   "cell_type": "code",
   "execution_count": 17,
   "metadata": {},
   "outputs": [
    {
     "data": {
      "text/plain": [
       "'TATAMOTORS'"
      ]
     },
     "execution_count": 17,
     "metadata": {},
     "output_type": "execute_result"
    }
   ],
   "source": [
    "search_results.json()[\"symbols\"][0][\"symbol\"]"
   ]
  },
  {
   "cell_type": "code",
   "execution_count": 18,
   "metadata": {},
   "outputs": [
    {
     "data": {
      "text/plain": [
       "'TATAMOTORS'"
      ]
     },
     "execution_count": 18,
     "metadata": {},
     "output_type": "execute_result"
    }
   ],
   "source": [
    "search_result = search_results.json()[\"symbols\"][0][\"symbol\"]\n",
    "search_result"
   ]
  },
  {
   "cell_type": "code",
   "execution_count": 20,
   "metadata": {},
   "outputs": [],
   "source": [
    "company_details = session.get(url = get_details.format(search_result), headers = head)"
   ]
  },
  {
   "cell_type": "code",
   "execution_count": 21,
   "metadata": {},
   "outputs": [
    {
     "data": {
      "text/plain": [
       "<Response [200]>"
      ]
     },
     "execution_count": 21,
     "metadata": {},
     "output_type": "execute_result"
    }
   ],
   "source": [
    "company_details"
   ]
  },
  {
   "cell_type": "code",
   "execution_count": 22,
   "metadata": {
    "collapsed": true
   },
   "outputs": [
    {
     "data": {
      "text/plain": [
       "{'info': {'symbol': 'TATAMOTORS',\n",
       "  'companyName': 'Tata Motors Limited',\n",
       "  'industry': 'AUTOMOBILES - 4 WHEELERS',\n",
       "  'activeSeries': ['EQ'],\n",
       "  'debtSeries': [],\n",
       "  'tempSuspendedSeries': [],\n",
       "  'isFNOSec': True,\n",
       "  'isCASec': False,\n",
       "  'isSLBSec': True,\n",
       "  'isDebtSec': False,\n",
       "  'isSuspended': False,\n",
       "  'isETFSec': False,\n",
       "  'isDelisted': False,\n",
       "  'isin': 'INE155A01022',\n",
       "  'isTop10': False,\n",
       "  'identifier': 'TATAMOTORSEQN'},\n",
       " 'metadata': {'series': 'EQ',\n",
       "  'symbol': 'TATAMOTORS',\n",
       "  'isin': 'INE155A01022',\n",
       "  'status': 'Listed',\n",
       "  'listingDate': '22-Jul-1998',\n",
       "  'industry': 'Passenger Cars & Utility Vehicles',\n",
       "  'lastUpdateTime': '09-Sep-2022 16:00:00',\n",
       "  'pdSectorPe': 48.1,\n",
       "  'pdSymbolPe': 0,\n",
       "  'pdSectorInd': 'NIFTY AUTO                                        '},\n",
       " 'securityInfo': {'boardStatus': 'Main',\n",
       "  'tradingStatus': 'Active',\n",
       "  'tradingSegment': 'Normal Market',\n",
       "  'sessionNo': '-',\n",
       "  'slb': 'Yes',\n",
       "  'classOfShare': 'Equity',\n",
       "  'derivatives': 'Yes',\n",
       "  'surveillance': '-',\n",
       "  'faceValue': 2,\n",
       "  'issuedSize': '3321175244'},\n",
       " 'priceInfo': {'lastPrice': 446.5,\n",
       "  'change': 4.300000000000011,\n",
       "  'pChange': 0.9724106739032137,\n",
       "  'previousClose': 442.2,\n",
       "  'open': 447.5,\n",
       "  'close': 445.9,\n",
       "  'vwap': 444.86,\n",
       "  'lowerCP': '398.00',\n",
       "  'upperCP': '486.40',\n",
       "  'pPriceBand': 'No Band',\n",
       "  'basePrice': 442.2,\n",
       "  'intraDayHighLow': {'min': 440.6, 'max': 449.65, 'value': 446.5},\n",
       "  'weekHighLow': {'min': 291.6,\n",
       "   'minDate': '08-Sep-2021',\n",
       "   'max': 536.7,\n",
       "   'maxDate': '17-Nov-2021',\n",
       "   'value': 446.5}},\n",
       " 'industryInfo': {'macro': 'Consumer Discretionary',\n",
       "  'sector': 'Automobile and Auto Components',\n",
       "  'industry': 'Automobiles',\n",
       "  'basicIndustry': 'Passenger Cars & Utility Vehicles'},\n",
       " 'preOpenMarket': {'preopen': [{'price': 398, 'buyQty': 0, 'sellQty': 322},\n",
       "   {'price': 413, 'buyQty': 0, 'sellQty': 355},\n",
       "   {'price': 415, 'buyQty': 0, 'sellQty': 1558},\n",
       "   {'price': 427.9, 'buyQty': 0, 'sellQty': 100},\n",
       "   {'price': 447.5, 'buyQty': 0, 'sellQty': 0, 'iep': True},\n",
       "   {'price': 462.15, 'buyQty': 829, 'sellQty': 0},\n",
       "   {'price': 464.3, 'buyQty': 5466, 'sellQty': 0},\n",
       "   {'price': 470, 'buyQty': 35, 'sellQty': 0},\n",
       "   {'price': 486.4, 'buyQty': 26, 'sellQty': 0}],\n",
       "  'ato': {'buy': 14016, 'sell': 1156},\n",
       "  'IEP': 447.5,\n",
       "  'totalTradedVolume': 38831,\n",
       "  'finalPrice': 447.5,\n",
       "  'finalQuantity': 38938,\n",
       "  'lastUpdateTime': '09-Sep-2022 09:07:12',\n",
       "  'totalBuyQuantity': 250069,\n",
       "  'totalSellQuantity': 566856,\n",
       "  'atoBuyQty': 14016,\n",
       "  'atoSellQty': 1156}}"
      ]
     },
     "execution_count": 22,
     "metadata": {},
     "output_type": "execute_result"
    }
   ],
   "source": [
    "company_details.json()"
   ]
  },
  {
   "cell_type": "code",
   "execution_count": 23,
   "metadata": {
    "collapsed": true
   },
   "outputs": [
    {
     "data": {
      "text/plain": [
       "{'symbol': 'TATAMOTORS',\n",
       " 'companyName': 'Tata Motors Limited',\n",
       " 'industry': 'AUTOMOBILES - 4 WHEELERS',\n",
       " 'activeSeries': ['EQ'],\n",
       " 'debtSeries': [],\n",
       " 'tempSuspendedSeries': [],\n",
       " 'isFNOSec': True,\n",
       " 'isCASec': False,\n",
       " 'isSLBSec': True,\n",
       " 'isDebtSec': False,\n",
       " 'isSuspended': False,\n",
       " 'isETFSec': False,\n",
       " 'isDelisted': False,\n",
       " 'isin': 'INE155A01022',\n",
       " 'isTop10': False,\n",
       " 'identifier': 'TATAMOTORSEQN'}"
      ]
     },
     "execution_count": 23,
     "metadata": {},
     "output_type": "execute_result"
    }
   ],
   "source": [
    "company_details.json()[\"info\"]"
   ]
  },
  {
   "cell_type": "code",
   "execution_count": 24,
   "metadata": {},
   "outputs": [
    {
     "data": {
      "text/plain": [
       "'TATAMOTORSEQN'"
      ]
     },
     "execution_count": 24,
     "metadata": {},
     "output_type": "execute_result"
    }
   ],
   "source": [
    "company_details.json()[\"info\"][\"identifier\"]"
   ]
  },
  {
   "cell_type": "markdown",
   "metadata": {},
   "source": [
    "# Functions "
   ]
  },
  {
   "cell_type": "code",
   "execution_count": 27,
   "metadata": {},
   "outputs": [],
   "source": [
    "def getID(company_name):\n",
    "    \n",
    "    #All urls\n",
    "    website_url = 'https://www.nseindia.com/'\n",
    "    search_url = 'https://www.nseindia.com/api/search/autocomplete?q={}'\n",
    "    get_details = 'https://www.nseindia.com/api/quote-equity?symbol={}'\n",
    "    \n",
    "    #Expect Response 200 \n",
    "    session.get(website_url, headers=head)\n",
    "    \n",
    "    #Get all the search results of the company_name arg\n",
    "    search_results = session.get(url=search_url.format(company_name), headers=head)\n",
    "    \n",
    "    #Get the first search result which matches the company_name user is looking for\n",
    "    search_result = search_results.json()['symbols'][0]['symbol']\n",
    "    \n",
    "    #Get the company details from the result above\n",
    "    company_details = session.get(url=get_details.format(search_result), headers=head)\n",
    "    \n",
    "    #Return the id of the company name\n",
    "    return company_details.json()['info']['identifier']"
   ]
  },
  {
   "cell_type": "markdown",
   "metadata": {},
   "source": [
    "# Testing "
   ]
  },
  {
   "cell_type": "code",
   "execution_count": 28,
   "metadata": {},
   "outputs": [
    {
     "data": {
      "text/plain": [
       "'TATAMOTORSEQN'"
      ]
     },
     "execution_count": 28,
     "metadata": {},
     "output_type": "execute_result"
    }
   ],
   "source": [
    "getID(\"tata motors\")"
   ]
  },
  {
   "cell_type": "code",
   "execution_count": 30,
   "metadata": {},
   "outputs": [
    {
     "data": {
      "text/plain": [
       "'TATASTEELEQN'"
      ]
     },
     "execution_count": 30,
     "metadata": {},
     "output_type": "execute_result"
    }
   ],
   "source": [
    "getID(\"tata steel\")"
   ]
  },
  {
   "cell_type": "code",
   "execution_count": 31,
   "metadata": {},
   "outputs": [
    {
     "data": {
      "text/plain": [
       "'RELIANCEEQN'"
      ]
     },
     "execution_count": 31,
     "metadata": {},
     "output_type": "execute_result"
    }
   ],
   "source": [
    "getID(\"reliance\")"
   ]
  }
 ],
 "metadata": {
  "kernelspec": {
   "display_name": "Python 3",
   "language": "python",
   "name": "python3"
  },
  "language_info": {
   "codemirror_mode": {
    "name": "ipython",
    "version": 3
   },
   "file_extension": ".py",
   "mimetype": "text/x-python",
   "name": "python",
   "nbconvert_exporter": "python",
   "pygments_lexer": "ipython3",
   "version": "3.7.6"
  }
 },
 "nbformat": 4,
 "nbformat_minor": 4
}
